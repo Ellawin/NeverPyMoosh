{
 "cells": [
  {
   "cell_type": "markdown",
   "metadata": {},
   "source": [
    "# Optimization of a taper structure using Nevergrad\n",
    "\n",
    "This file shows how to use the Nevergrad optimization library to optimize a taper photonic structure. \n",
    "\n",
    "We first import all the modules needed."
   ]
  },
  {
   "cell_type": "code",
   "execution_count": 25,
   "metadata": {},
   "outputs": [],
   "source": [
    "import numpy as np # to create Matlab-like arrays\n",
    "import matplotlib.pyplot as plt # to visualize results\n",
    "import nevergrad as ng # to perform the optimization"
   ]
  },
  {
   "cell_type": "markdown",
   "metadata": {},
   "source": [
    "## Compute the transmission coefficient\n",
    "\n",
    "We define then the functions needed to compute the reflection and transmission coefficients of propagative modes in a structure, by using a scattering matrix formalism and a RCWA method.  "
   ]
  },
  {
   "cell_type": "code",
   "execution_count": 26,
   "metadata": {},
   "outputs": [],
   "source": [
    "def cascade(T,U):\n",
    "    '''Cascading of two scattering matrices T and U.\n",
    "    Since T and U are scattering matrices, it is expected that they are square\n",
    "    and have the same dimensions which are necessarily EVEN.\n",
    "    '''\n",
    "    n = int(T.shape[1] / 2)\n",
    "    J = np.linalg.inv( np.eye(n) - np.matmul(U[0:n,0:n],T[n:2*n,n:2*n] ) )\n",
    "    K = np.linalg.inv( np.eye(n) - np.matmul(T[n:2*n,n:2*n],U[0:n,0:n] ) )\n",
    "    S = np.block([[T[0:n,0:n] + np.matmul(np.matmul(np.matmul(T[0:n,n:2*n],J),\n",
    "    U[0:n,0:n]),T[n:2*n,0:n]),np.matmul(np.matmul(T[0:n,n:2*n],J),U[0:n,n:2*n])\n",
    "    ],[np.matmul(np.matmul(U[n:2*n,0:n],K),T[n:2*n,0:n]),U[n:2*n,n:2*n]\n",
    "    + np.matmul(np.matmul(np.matmul(U[n:2*n,0:n],K),T[n:2*n,n:2*n]),U[0:n,n:2*n])\n",
    "    ]])\n",
    "    return S\n",
    "\n",
    "def c_bas(A,V,h):\n",
    "    ''' Directly cascading any scattering matrix A (square and with even\n",
    "    dimensions) with the scattering matrix of a layer of thickness h in which\n",
    "    the wavevectors are given by V. Since the layer matrix is\n",
    "    essentially empty, the cascading is much quicker if this is taken\n",
    "    into account.\n",
    "    '''\n",
    "    n = int(A.shape[1]/2)\n",
    "    D = np.diag(np.exp(1j*V*h))\n",
    "    S = np.block([[A[0:n,0:n],np.matmul(A[0:n,n:2*n],D)],[np.matmul(D,A[n:2*n,0:n]),np.matmul(np.matmul(D,A[n:2*n,n:2*n]),D)]])\n",
    "    return S\n",
    "\n",
    "def c_haut(A,valp,h):\n",
    "    n = int(A[0].size/2)\n",
    "    D = np.diag(np.exp(1j*valp*h))\n",
    "    S11 = np.dot(D,np.dot(A[0:n,0:n],D))\n",
    "    S12 = np.dot(D,A[0:n,n:2*n])\n",
    "    S21 = np.dot(A[n:2*n,0:n],D)\n",
    "    S22 = A[n:2*n,n:2*n]\n",
    "    S1 = np.append(S11,S12,1)\n",
    "    S2 = np.append(S21,S22,1)\n",
    "    S = np.append(S1,S2,0)\n",
    "    return S    \n",
    "\n",
    "def step(a,b,w,x0,n):\n",
    "    '''Computes the Fourier series for a piecewise function having the value\n",
    "    b over a portion w of the period, starting at position x0\n",
    "    and the value a otherwise. The period is supposed to be equal to 1.\n",
    "    Then returns the toeplitz matrix generated using the Fourier series.\n",
    "    '''\n",
    "    from scipy.linalg import toeplitz\n",
    "    from numpy import sinc\n",
    "    l = np.zeros(n,dtype=np.complex128)\n",
    "    m = np.zeros(n,dtype=np.complex128)\n",
    "    tmp = np.exp(-2*1j*np.pi*(x0+w/2)*np.arange(0,n))*sinc(w*np.arange(0,n))*w\n",
    "    l = np.conj(tmp)*(b-a)\n",
    "    m = tmp*(b-a)\n",
    "    l[0] = l[0]+a\n",
    "    m[0] = l[0]\n",
    "    T = toeplitz(l,m)\n",
    "    return T\n",
    "\n",
    "def fpml(q,g,n):\n",
    "    from scipy.linalg import toeplitz\n",
    "    from numpy import sinc,flipud\n",
    "    x = np.arange(-n,n+1)\n",
    "    v = -q/2*((1+g/4)*sinc(q*x)+(sinc(q*x-1)+sinc(q*x+1))*0.5-g*0.125*(sinc(q*x-2)+sinc(q*x+2)))\n",
    "    v[n] = v[n]+1\n",
    "    T = toeplitz(flipud(v[1:n+1]),v[n:2*n])\n",
    "    return T\n",
    "\n",
    "def aper(k0,a0,pol,e1,e2,n,blocs):\n",
    "    '''Warning: blocs is a vector with N lines and 2 columns. Each\n",
    "    line refers to a block of material e2 inside a matrix of material e1,\n",
    "    giving its size relatively to the period (first column) and its starting\n",
    "    position.\n",
    "    Warning : There is nothing checking that the blocks don't overlapp.\n",
    "    '''\n",
    "    n_blocs = blocs.shape[0];\n",
    "    nmod = int(n/2)\n",
    "    M1 = e1*np.eye(n,n)\n",
    "    M2 = 1/e1*np.eye(n,n)\n",
    "    for k in range(0,n_blocs):\n",
    "        M1 = M1+step(0,e2-e1,blocs[k,0],blocs[k,1],n)\n",
    "        M2 = M2+step(0,1/e2-1/e1,blocs[k,0],blocs[k,1],n)\n",
    "    alpha = np.diag(a0+2*np.pi*np.arange(-nmod,nmod+1))+0j\n",
    "    g = 1/(1-1j);\n",
    "    fprime = np.eye(n)\n",
    "    if (pol==0):\n",
    "        tmp = np.linalg.inv(fprime)\n",
    "        M = np.matmul(tmp, np.matmul(alpha, np.matmul(tmp, alpha)))\\\n",
    "        -k0*k0*M1\n",
    "        L,E = np.linalg.eig(M)\n",
    "        L = np.sqrt(-L+0j)\n",
    "        L = (1-2*(np.imag(L)<-1e-15))*L\n",
    "        P = np.block([[E],[np.matmul(E,np.diag(L))]])\n",
    "    else:\n",
    "        M = np.matmul(np.linalg.inv(np.matmul(fprime, M2)),\\\n",
    "        -k0*k0*fprime+np.matmul(alpha, np.matmul(np.linalg.inv(np.matmul(M1, fprime)), alpha)))\n",
    "        L,E = np.linalg.eig(M)\n",
    "        L = np.sqrt(-L+0j)\n",
    "        L = (1-2*(np.imag(L)<-1e-15))*L\n",
    "        P = np.block([[E],[np.matmul(np.matmul(M2,E),np.diag(L))]])\n",
    "    return P,L\n",
    "\n",
    "def interface(P,Q):\n",
    "    '''Computation of the scattering matrix of an interface, P and Q being the\n",
    "    matrices given for each layer by homogene, reseau or creneau.\n",
    "    '''\n",
    "    n = int(P.shape[1])\n",
    "    S = np.matmul(np.linalg.inv(np.block([[P[0:n,0:n],-Q[0:n,0:n]],[P[n:2*n,0:n],Q[n:2*n,0:n]]])),np.block([[-P[0:n,0:n],Q[0:n,0:n]],[P[n:2*n,0:n],Q[n:2*n,0:n]]]))\n",
    "    return S\n",
    "\n",
    "def intermediaire(T,U):\n",
    "    n = int(T.shape[0] / 2)\n",
    "    H = np.linalg.inv( np.eye(n) - np.matmul(U[0:n,0:n],T[n:2*n,n:2*n]))\n",
    "    K = np.linalg.inv( np.eye(n) - np.matmul(T[n:2*n,n:2*n],U[0:n,0:n]))\n",
    "    a = np.matmul(K, T[n:2*n,0:n])\n",
    "    b = np.matmul(K, np.matmul(T[n:2*n,n:2*n],U[0:n,n:2*n]))\n",
    "    c = np.matmul(H, np.matmul(U[0:n,0:n],T[n:2*n,0:n]))\n",
    "    d = np.matmul(H,U[0:n,n:2*n]) \n",
    "    S = np.block([[a,b],[c,d]])\n",
    "    return S\n",
    "\n",
    "def couche(valp, h):\n",
    "    n = len(valp)\n",
    "    AA = np.diag(np.exp(1j*valp*h))\n",
    "    C = np.block([[np.zeros((n,n)),AA],[AA,np.zeros((n,n))]])\n",
    "    return C\n"
   ]
  },
  {
   "cell_type": "markdown",
   "metadata": {},
   "source": [
    "## Define the cost function\n",
    "\n",
    "The cost function is in the `taper` function. We consider 25 modes, a period (d) of 1500 nm (to assure that the period is sufficiently long for the different tapers do not interfere). We excited a waveguide of 120 nm with a 1550 nm wavelength, in polarization TE (s-polarization), with a normal angle of incidence. The goal of the optimization is to maximise the transmission coefficient of the fundamental mode from the 120 nm waveguide to a 450 nm waveguide using a structure to be optimized. "
   ]
  },
  {
   "cell_type": "code",
   "execution_count": 27,
   "metadata": {},
   "outputs": [],
   "source": [
    "def taper(X):\n",
    "# X is a (n_layers x 2) matrix. The first column are the thicknesses,\n",
    "# the second column are the widths of the waveguides. The positions of the waveguides are imposed.\n",
    "# Number of modes retained (odd number); 31 is suffisent\n",
    "    n=25 # total number of modes \n",
    "    d=1500 # period in nanometers\n",
    "    n_layers=int(X.shape[0]) # number of layers\n",
    "    n_cubes = 1 # number of blocs in a layer\n",
    "    lam=1550 # excitation wavelength\n",
    "    pol=0 # polarization (0 for TE, 1 otherwise)\n",
    "    a0=0\n",
    "    e1=2.1316 # permittivity of the first material \n",
    "    e2=12.11 # permittivity of the second material \n",
    "    # Definition of the variables\n",
    "    # Adimensionalization\n",
    "    x=X/d # all the structure\n",
    "    t = X[:,0] # thicknesses\n",
    "    t = t/d # again, thicknesses\n",
    "    w = X[:,1] # widths of the blocs in each layer\n",
    "    w = w/d; # again widths\n",
    "    p = 0.5 - w/2 # position of the blocs in each layer : set as central in the period\n",
    "    w_in=120/d # width of the incoming waveguide\n",
    "    w_out=450/d # width of the outcoming waveguide\n",
    "    l=lam/d # wavelength \n",
    "    k0=2*np.pi/l \n",
    "    bloc_in=np.array([[w_in,0.5-w_in/2]]) # incoming waveguide\n",
    "    bloc_out=np.array([[w_out,0.5-w_out/2]]) # outcoming waveguide\n",
    "    # Starting with neutral S matrix\n",
    "    S=np.block([[np.zeros([n,n]),np.eye(n,dtype=np.complex128)],[np.eye(n),np.zeros([n,n])]])\n",
    "    P,V=aper(k0,a0,pol,e1,e2,n,bloc_in)\n",
    "    a=np.argmin(abs(V-2.35*k0)) #incoming waveguide, 2.35 = effective index\n",
    "    for k in range(0,n_layers):\n",
    "        cubes = np.array([[w[k],p[k]]])\n",
    "        P_new,V_new=aper(k0,a0,pol,e1,e2,n,cubes)\n",
    "        S=cascade(S,interface(P,P_new))\n",
    "        S=c_bas(S,V_new,t[k])\n",
    "        P,V=P_new,V_new\n",
    "    P_out,V_out=aper(k0,a0,pol,e1,e2,n,bloc_out)\n",
    "    S=cascade(S,interface(P,P_out))\n",
    "    b=np.argmin(abs(V_out-3.24033*k0)) #output waveguide, 3.24 = effective index    \n",
    "    cost=1-abs(S[b+n,a])**2\n",
    "    return cost"
   ]
  },
  {
   "cell_type": "markdown",
   "metadata": {},
   "source": [
    "## Define the parametrization of the optimization (the parameters forms)\n",
    "\n",
    "For each optimization we need to define some `parametrization` defining the type of variables to optimize. Those variables can be continuous or discrete, and of any dimension. Here, we let the variables take values between 10 and 1500 nm (that is coherent to optimize thicknesses and widths of the blocs in the layers). As we using essentially evolutionary algorithms, some `child` is created. \n",
    "\n",
    "Here, we define the `reference child` by a suite of 200 nm layers in which blocs of 500 nm are placed. Otherwise, the child is by default a 0s vector and the optimization will not run because the child in not in the optimization domain.  "
   ]
  },
  {
   "cell_type": "code",
   "execution_count": 28,
   "metadata": {},
   "outputs": [
    {
     "name": "stdout",
     "output_type": "stream",
     "text": [
      "value of the child before:  [[0. 0.]\n",
      " [0. 0.]\n",
      " [0. 0.]\n",
      " [0. 0.]]\n",
      "value of the child after :  [[200 500]\n",
      " [200 500]\n",
      " [200 500]\n",
      " [200 500]]\n",
      "parametrization Array{(4,2),Cl(10,1500,b)}:[[200 500]\n",
      " [200 500]\n",
      " [200 500]\n",
      " [200 500]]\n"
     ]
    }
   ],
   "source": [
    "# The parameters to optimized are stored in a 2D array of number layers values x 2\n",
    "number_layers = 4 \n",
    "parametrization = ng.p.Array(shape=(number_layers,2)) \n",
    "\n",
    "# We create an initialized structure. The values are 0 by default.  \n",
    "child = parametrization.spawn_child() \n",
    "print(\"value of the child before: \", child.value)\n",
    "\n",
    "# We change the initial values from [0,0] to [200,500] nm, as we don't want layers \n",
    "# (or blocs) of 0 nm thicknesses (or widths)\n",
    "child.value = [[200,500]]*number_layers\n",
    "print(\"value of the child after : \", child.value)\n",
    "\n",
    "# We store this structure as the initialized structures for the next steps of \n",
    "# optimization\n",
    "parametrization.value = child.value\n",
    "\n",
    "# We set the lower and upper values authorized for the thicknesses and widths\n",
    "parametrization = parametrization.set_bounds(lower=10, upper=1500)\n",
    "print(\"parametrization\", parametrization)\n"
   ]
  },
  {
   "cell_type": "markdown",
   "metadata": {},
   "source": [
    "## Run the optimization\n",
    "\n",
    "We can use many algorithms by using Nevergrad. Here, we use `TwoPointsDE`, and we give a `budget` of 100 to run the optimization. This `budget` is the number of times the cost function will be calculated. The optimization finishes when all the budget is used. We need to ensure that the chosen budget is sufficient to let the algorithm converges to a solution (see figure 1).\n",
    "\n",
    "It is in the loop that the optimization performs. The `ask()` function generates some new structure, and we compute the `loss` (the value of the cost function) of this structure using the `func(x.value)` function. The optimization has in memory all the structures tested, so by using `recommendation()` method we ask wich structure is the best for now. The `loss2` array save the values of the best cost functions obtained after each iteration of the algorithm. \n",
    "\n",
    "`best` is a vector with the thicknesses of the structure.\n",
    "\n",
    "`cf_best` is a vector with the associate cost function value. "
   ]
  },
  {
   "cell_type": "code",
   "execution_count": 29,
   "metadata": {},
   "outputs": [],
   "source": [
    "# We set the optimizer \"TwoPointsDE\" with a budget of 100 evaluations of the cost \n",
    "# function and the parametrization defined above\n",
    "optim = ng.optimizers.registry[\"TwoPointsDE\"](parametrization, budget =100)\n",
    "\n",
    "# We initialized two arrays to store the data\n",
    "loss = np.empty(optim.budget)\n",
    "loss2 = np.empty(optim.budget)\n",
    "\n",
    "# for each iteration of the optimization, we create a structure x, we compute its \n",
    "# cost function and store it in the 'loss' and 'loss2' arrays.\n",
    "for i in range(optim.budget):\n",
    "    x = optim.ask() # creation of a structure\n",
    "    loss[i] = taper(x.value) # compute the cost function of the 'x' structure\n",
    "    optim.tell(x, loss[i]) # i don't know why this line is useful, but it is. If \n",
    "    # it is commented, the code doesn't run.\n",
    "    reco2 = optim.provide_recommendation() # provide the best structure computed \n",
    "    #for now\n",
    "    loss2[i] = taper(reco2.value) # store the best cost function obtained for now\n",
    "\n",
    "best = reco2.value # store the best structure obtained with the optimization process\n",
    "cf_best = taper(best) # store the best cost function obtained with the optimization\n",
    "# process\n"
   ]
  },
  {
   "cell_type": "markdown",
   "metadata": {},
   "source": [
    "## Analyse the solution\n",
    "\n",
    "### Individual analyse of a solution\n",
    "\n",
    "Write the best structure and its cost function associated, trace the convergence curve of the optimization. "
   ]
  },
  {
   "cell_type": "code",
   "execution_count": 30,
   "metadata": {},
   "outputs": [
    {
     "name": "stdout",
     "output_type": "stream",
     "text": [
      "best =  [[1142.39707118  300.54454715]\n",
      " [  79.66893237  587.54174074]\n",
      " [ 752.95858808  389.55395675]\n",
      " [ 148.08483118 1442.49338327]]\n",
      "best cost function =  0.2931723314351983\n"
     ]
    },
    {
     "data": {
      "text/plain": [
       "Text(0.5, 1.0, 'Convergence curve of the optimization')"
      ]
     },
     "execution_count": 30,
     "metadata": {},
     "output_type": "execute_result"
    },
    {
     "data": {
      "image/png": "[encoded data removed]",
      "text/plain": [
       "<Figure size 432x288 with 1 Axes>"
      ]
     },
     "metadata": {
      "needs_background": "light"
     },
     "output_type": "display_data"
    }
   ],
   "source": [
    "print(\"best = \", best) # display the best structure\n",
    "print(\"best cost function = \", cf_best) # display the best cost function value\n",
    "\n",
    "# display the convergence curve of the optimization. \n",
    "# The value of the convergence have to stuck. If not, the budget is not sufficient\n",
    "plt.figure(1)\n",
    "plt.plot(loss2)\n",
    "plt.title(\"Convergence curve of the optimization\")"
   ]
  },
  {
   "cell_type": "markdown",
   "metadata": {},
   "source": [
    "We then represent the structure optimized using the `show_structure()` function."
   ]
  },
  {
   "cell_type": "code",
   "execution_count": 31,
   "metadata": {},
   "outputs": [
    {
     "data": {
      "image/png": "[encoded data removed]",
      "text/plain": [
       "<Figure size 432x288 with 1 Axes>"
      ]
     },
     "metadata": {
      "needs_background": "light"
     },
     "output_type": "display_data"
    }
   ],
   "source": [
    "def show_structure(best):\n",
    "    number_layers = int(best.shape[0])\n",
    "    n_cubes = 1\n",
    "    d = 1500\n",
    "    t = best[:,0]\n",
    "    w = best[:,1]\n",
    "    p = (d-w)/2\n",
    "\n",
    "    X = np.array([t, w, p])\n",
    "    X = X.T\n",
    "\n",
    "    h = t/d\n",
    "    x = X/d\n",
    "\n",
    "    n = 600\n",
    "    H = sum(h)\n",
    "    M0 = np.zeros((n))\n",
    "    for j in range(number_layers):\n",
    "        tmp = np.zeros(n)\n",
    "        position = np.arange(1,n+1)/n\n",
    "        for k in range(int((X.shape[1]-1)/2)):\n",
    "            tmp = tmp + (position>x[j,2*k+2])*(position<x[j,2*k+1]+x[j,2*k+2])\n",
    "        if (x[j,2*k+1]+x[j,2*k+2]>1):\n",
    "            tmp = tmp + (position<x[j,2*k+1]+x[j,2*k+2]-1)\n",
    "        cst = int(np.floor(h[j]*n))\n",
    "        M2 = np.tile(tmp,(cst,1))\n",
    "        if (j == 0):\n",
    "            M = M2\n",
    "        else:\n",
    "            M = np.vstack((M,M2))\n",
    "\n",
    "    M = 1 - M  \n",
    "    return M\n",
    "\n",
    "M = show_structure(best)\n",
    "plt.figure(2)\n",
    "plt.imshow(M*127, cmap = 'bone')\n",
    "plt.show(block = False)    "
   ]
  },
  {
   "cell_type": "markdown",
   "metadata": {},
   "source": [
    "We add functions to represent the field map of the optimized structure.\n",
    "\n",
    "`HErmes()` function compute the amplitudes of the TE and TM fields by summing the amplitudes of each mode in a layer. \n",
    "\n",
    "`show_field()` function compute the upcoming and outgoing amplitudes of the modes in all the structure using the `HErmes()` data computed in each layers. \n",
    "\n",
    "` Field()` function define the important data needed in the `show_field()` function."
   ]
  },
  {
   "cell_type": "code",
   "execution_count": 32,
   "metadata": {},
   "outputs": [
    {
     "data": {
      "image/png": "[encoded data removed]",
      "text/plain": [
       "<Figure size 432x288 with 2 Axes>"
      ]
     },
     "metadata": {
      "needs_background": "light"
     },
     "output_type": "display_data"
    }
   ],
   "source": [
    "def HErmes(T,U,V,P,Amp,ny,h,a0):\n",
    "    n = int(np.shape(T)[0] / 2)\n",
    "    nmod = int((n-1) / 2)\n",
    "    nx = n\n",
    "    X = np.matmul(intermediaire(T,cascade(couche(V,h),U)),Amp.reshape(Amp.size,1))\n",
    "    D = X[0:n]\n",
    "    X = np.matmul(intermediaire(cascade(T,couche(V,h)),U),Amp.reshape(Amp.size,1))\n",
    "    E = X[n:2*n]\n",
    "    M = np.zeros((ny,nx-1), dtype = complex)\n",
    "    for k in range(ny):\n",
    "        y = h / ny * (k+1)\n",
    "        Fourier = np.matmul(P,np.matmul(np.diag(np.exp(1j*V*y)),D) + np.matmul(np.diag(np.exp(1j*V*(h-y))),E))\n",
    "        MM = np.fft.ifftshift(Fourier[0:len(Fourier)-1])\n",
    "        M[k,:] = MM.reshape(len(MM))\n",
    "    M = np.conj(np.fft.ifft(np.conj(M).T, axis = 0)).T * n\n",
    "    x, y = np.meshgrid(np.linspace(0,1,nx-1), np.linspace(0,1,ny))\n",
    "    M = M * np.exp(1j * a0 * x)\n",
    "    return M\n",
    "\n",
    "def show_field(k0,a0,A,thickness, exc,periode):\n",
    "    n = len(A[0][1]) #5\n",
    "    n_couches = thickness.shape[0] #3\n",
    "    S11=np.zeros((n,n))\n",
    "    S12=np.eye(n)\n",
    "    S1=np.append(S11,S12,axis=0)\n",
    "    S2=np.append(S12,S11,axis=0)\n",
    "    S0=np.append(S1,S2,1)\n",
    "\n",
    "    B = []\n",
    "    for k in range(n_couches-1):\n",
    "        a = np.array(A[k][0])\n",
    "        b = np.array(A[k+1][0])\n",
    "        c = interface(a,b)\n",
    "        c = c.tolist()\n",
    "        B.append(c)\n",
    "\n",
    "    S = []\n",
    "    S0 = S0.tolist()\n",
    "    S.append(S0)\n",
    "\n",
    "    for k in range(n_couches-1):\n",
    "        a = np.array(S[k])\n",
    "        b = c_haut(np.array(B[k]),np.array(A[k][1]),thickness[k])\n",
    "        S_new = cascade(a,b) \n",
    "        S.append(S_new.tolist())\n",
    "\n",
    "    a = np.array(S[n_couches-1])\n",
    "    b = np.array(A[n_couches-1][1])\n",
    "    c = c_bas(a,b,thickness[n_couches-1])\n",
    "    S.append(c.tolist())\n",
    "\n",
    "    Q = []\n",
    "    Q.append(S0)\n",
    "\n",
    "    for k in range(n_couches-1):\n",
    "        a = np.array(B[n_couches-k-2])\n",
    "        b = np.array(A[n_couches-(k+1)][1])\n",
    "        c = thickness[n_couches-(k+1)]\n",
    "        d = np.array(Q[k])\n",
    "        Q_new = cascade(c_bas(a,b,c),d)\n",
    "        Q.append(Q_new.tolist())\n",
    "\n",
    "    a = np.array(Q[k])\n",
    "    b = np.array(A[0][1])\n",
    "    c = c_haut(a,b,thickness[n_couches-(k+1)])\n",
    "    Q.append(c.tolist())\n",
    "\n",
    "    stretch = periode / n\n",
    "\n",
    "    M = HErmes(np.array(S[0]), np.array(Q[n_couches-0-1]), np.array(A[0][1]), np.array(A[0][0])[0:n,0:n],exc,int(np.floor(thickness[0] * periode / stretch)), thickness[0], a0)\n",
    "\n",
    "    for j in np.arange(1,n_couches):\n",
    "        M_new = HErmes(np.array(S[j]), np.array(Q[n_couches-j-1]), np.array(A[j][1]), np.array(A[j][0])[0:n,0:n],exc,int(np.floor(thickness[j] * periode / stretch)), thickness[j], a0) \n",
    "        M = np.append(M,M_new, 0)\n",
    "    return M\n",
    "\n",
    "def Field(X):\n",
    "    nmod = 20\n",
    "    n = 2*nmod+1\n",
    "    periode = 1500\n",
    "    number_layers = int(best.shape[0])\n",
    "    n_cubes = 1\n",
    "    lam = 1550\n",
    "    pol = 0\n",
    "    a0 = 0\n",
    "    e1 = 2.1316\n",
    "    e2 = 12.11\n",
    "    t = best[:,0] / periode\n",
    "    w = best[:,1] / periode\n",
    "    p = 0.5 - w / 2 \n",
    "    w_in = 120 / periode \n",
    "    w_out = 450 / periode \n",
    "    x = best / periode\n",
    "\n",
    "    thickness = np.append(np.append(100 / periode, t), 100 / periode)\n",
    "    l = lam / periode \n",
    "    k0 = 2 * np.pi / l \n",
    "\n",
    "    P_in,V_in = aper(k0,a0,pol,e1,e2,n,np.array([[w_in, 0.5-w_in/2]]))\n",
    "    a = np.argmin(abs(V_in-2.35*k0)) \n",
    "    A = []\n",
    "    A.append([P_in.tolist(),V_in.tolist()])\n",
    "    for k in range(number_layers):\n",
    "        cubes = np.array([[w[k],p[k]]])\n",
    "        P_new,V_new=aper(k0,a0,pol,e1,e2,n,cubes)\n",
    "        A.append([P_new.tolist(),V_new.tolist()])\n",
    "    P_out, V_out = aper(k0,a0,pol,e1,e2,n,np.array([[w_out,0.5-w_out/2]]))\n",
    "    a = np.argmin(abs(V_out-2.35*k0)) \n",
    "    A.append([P_out.tolist(),V_out.tolist()])\n",
    "    exc = np.zeros(2*n)\n",
    "    exc[a-1] = 1\n",
    "\n",
    "    M = show_field(k0, a0, A, thickness, exc, periode)\n",
    "    return M \n",
    "    \n",
    "Mfield = Field(best)\n",
    "Mfield = np.abs(Mfield)**2\n",
    "plt.figure(3)\n",
    "plt.imshow(Mfield, cmap = 'jet', aspect = 'auto')\n",
    "plt.colorbar()\n",
    "plt.show(block=False) # block = False is not needed in the Notebook, but I need it \n",
    "# when I run the code in local. "
   ]
  }
 ],
 "metadata": {
  "kernelspec": {
   "display_name": "Python 3.10.4 64-bit",
   "language": "python",
   "name": "python3"
  },
  "language_info": {
   "codemirror_mode": {
    "name": "ipython",
    "version": 3
   },
   "file_extension": ".py",
   "mimetype": "text/x-python",
   "name": "python",
   "nbconvert_exporter": "python",
   "pygments_lexer": "ipython3",
   "version": "3.10.6"
  },
  "orig_nbformat": 4,
  "vscode": {
   "interpreter": {
    "hash": "916dbcbb3f70747c44a77c7bcd40155683ae19c65e1c03b4aa3499c5328201f1"
   }
  }
 },
 "nbformat": 4,
 "nbformat_minor": 2
}
